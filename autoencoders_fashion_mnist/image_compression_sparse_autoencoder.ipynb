{
  "nbformat": 4,
  "nbformat_minor": 0,
  "metadata": {
    "colab": {
      "name": "image_compression_sparse_autoencoder.ipynb",
      "version": "0.3.2",
      "provenance": [],
      "machine_shape": "hm"
    },
    "kernelspec": {
      "name": "python3",
      "display_name": "Python 3"
    },
    "accelerator": "GPU"
  },
  "cells": [
    {
      "cell_type": "markdown",
      "metadata": {
        "id": "cI4u7g2ZWxS-",
        "colab_type": "text"
      },
      "source": [
        "# Image Compression using a Sparse AutoEncoder"
      ]
    },
    {
      "cell_type": "code",
      "metadata": {
        "id": "lMwAh7m-Wyfu",
        "colab_type": "code",
        "colab": {
          "base_uri": "https://localhost:8080/",
          "height": 104
        },
        "outputId": "6de5b4a8-f1f4-469e-8f45-698353240563"
      },
      "source": [
        "from keras.datasets import fashion_mnist\n",
        "%pylab inline\n",
        "import os\n",
        "import keras\n",
        "import numpy as np\n",
        "import pandas as pd\n",
        "import keras.backend as K\n",
        "from keras import regularizers\n",
        "\n",
        "\n",
        "from time import time\n",
        "from sklearn.cluster import KMeans\n",
        "from keras import callbacks\n",
        "from keras.models import Model\n",
        "from keras.optimizers import SGD\n",
        "from keras.layers import Dense, Input\n",
        "from keras.initializers import VarianceScaling\n",
        "from keras.engine.topology import Layer, InputSpec\n",
        "\n",
        "# from scipy.misc import imread\n",
        "from sklearn.metrics import accuracy_score, normalized_mutual_info_score"
      ],
      "execution_count": 11,
      "outputs": [
        {
          "output_type": "stream",
          "text": [
            "Populating the interactive namespace from numpy and matplotlib\n"
          ],
          "name": "stdout"
        },
        {
          "output_type": "stream",
          "text": [
            "/usr/local/lib/python3.6/dist-packages/IPython/core/magics/pylab.py:161: UserWarning: pylab import has clobbered these variables: ['time']\n",
            "`%matplotlib` prevents importing * from pylab and numpy\n",
            "  \"\\n`%matplotlib` prevents importing * from pylab and numpy\"\n"
          ],
          "name": "stderr"
        }
      ]
    },
    {
      "cell_type": "code",
      "metadata": {
        "id": "B4Dlf6suW5Kf",
        "colab_type": "code",
        "colab": {}
      },
      "source": [
        "(train_x, train_y), (val_x, val_y) = fashion_mnist.load_data()"
      ],
      "execution_count": 0,
      "outputs": []
    },
    {
      "cell_type": "code",
      "metadata": {
        "id": "Njjqp7bbW_ru",
        "colab_type": "code",
        "colab": {}
      },
      "source": [
        "train_x = train_x/255.\n",
        "val_x = val_x/255.\n",
        "\n",
        "train_x = train_x.reshape(-1, 784)\n",
        "val_x = val_x.reshape(-1, 784)"
      ],
      "execution_count": 0,
      "outputs": []
    },
    {
      "cell_type": "markdown",
      "metadata": {
        "id": "kFgWow0iXJ3e",
        "colab_type": "text"
      },
      "source": [
        "### Autoencoder Model"
      ]
    },
    {
      "cell_type": "markdown",
      "metadata": {
        "id": "22X_rhDLPhEd",
        "colab_type": "text"
      },
      "source": [
        "#### Encoder part"
      ]
    },
    {
      "cell_type": "code",
      "metadata": {
        "id": "24gAYx-VXDlu",
        "colab_type": "code",
        "colab": {}
      },
      "source": [
        "input_img = Input(shape=(784,))\n",
        "\n",
        "# \"encoded\" is the encoded representation of the input\n",
        "encoded = Dense(2000, activation='relu')(input_img)\n",
        "encoded = Dense(500, activation='relu', activity_regularizer=regularizers.l1(10e-10))(encoded)\n",
        "encoded = Dense(500, activation='relu', activity_regularizer=regularizers.l1(10e-10))(encoded)\n",
        "encoded = Dense(10, activation='sigmoid',activity_regularizer=regularizers.l1(10e-10))(encoded)"
      ],
      "execution_count": 0,
      "outputs": []
    },
    {
      "cell_type": "markdown",
      "metadata": {
        "id": "kmW_RHtcQXa_",
        "colab_type": "text"
      },
      "source": [
        "#### Decoder part"
      ]
    },
    {
      "cell_type": "code",
      "metadata": {
        "id": "GTdgKWSDP85b",
        "colab_type": "code",
        "colab": {}
      },
      "source": [
        "decoded = Dense(500, activation='relu')(encoded)\n",
        "decoded = Dense(500, activation='relu')(decoded)\n",
        "decoded = Dense(2000, activation='relu')(decoded)\n",
        "decoded = Dense(784)(decoded)"
      ],
      "execution_count": 0,
      "outputs": []
    },
    {
      "cell_type": "code",
      "metadata": {
        "id": "0mxU14ztQf6l",
        "colab_type": "code",
        "colab": {}
      },
      "source": [
        "# this model maps an input to its reconstruction\n",
        "autoencoder = Model(input_img, decoded)"
      ],
      "execution_count": 0,
      "outputs": []
    },
    {
      "cell_type": "markdown",
      "metadata": {
        "id": "pWIRq8vwQqYd",
        "colab_type": "text"
      },
      "source": [
        "### Model Summary"
      ]
    },
    {
      "cell_type": "code",
      "metadata": {
        "id": "UT7bhq2EQkPl",
        "colab_type": "code",
        "colab": {
          "base_uri": "https://localhost:8080/",
          "height": 437
        },
        "outputId": "72dd4a03-3455-459e-dbf5-f07aff751582"
      },
      "source": [
        "autoencoder.summary()"
      ],
      "execution_count": 17,
      "outputs": [
        {
          "output_type": "stream",
          "text": [
            "_________________________________________________________________\n",
            "Layer (type)                 Output Shape              Param #   \n",
            "=================================================================\n",
            "input_3 (InputLayer)         (None, 784)               0         \n",
            "_________________________________________________________________\n",
            "dense_6 (Dense)              (None, 2000)              1570000   \n",
            "_________________________________________________________________\n",
            "dense_7 (Dense)              (None, 500)               1000500   \n",
            "_________________________________________________________________\n",
            "dense_8 (Dense)              (None, 500)               250500    \n",
            "_________________________________________________________________\n",
            "dense_9 (Dense)              (None, 10)                5010      \n",
            "_________________________________________________________________\n",
            "dense_10 (Dense)             (None, 500)               5500      \n",
            "_________________________________________________________________\n",
            "dense_11 (Dense)             (None, 500)               250500    \n",
            "_________________________________________________________________\n",
            "dense_12 (Dense)             (None, 2000)              1002000   \n",
            "_________________________________________________________________\n",
            "dense_13 (Dense)             (None, 784)               1568784   \n",
            "=================================================================\n",
            "Total params: 5,652,794\n",
            "Trainable params: 5,652,794\n",
            "Non-trainable params: 0\n",
            "_________________________________________________________________\n"
          ],
          "name": "stdout"
        }
      ]
    },
    {
      "cell_type": "code",
      "metadata": {
        "id": "VzlHcJFRQv2V",
        "colab_type": "code",
        "colab": {}
      },
      "source": [
        "encoder = Model(input_img, encoded)"
      ],
      "execution_count": 0,
      "outputs": []
    },
    {
      "cell_type": "code",
      "metadata": {
        "id": "YBVyAdRwSduU",
        "colab_type": "code",
        "colab": {
          "base_uri": "https://localhost:8080/",
          "height": 70
        },
        "outputId": "d31952a2-1b1f-4064-8cd0-10b612ecf9c5"
      },
      "source": [
        "autoencoder.compile(optimizer='adam', \n",
        "                    loss='mse')"
      ],
      "execution_count": 19,
      "outputs": [
        {
          "output_type": "stream",
          "text": [
            "W0819 14:31:12.496134 139755205625728 deprecation_wrapper.py:119] From /usr/local/lib/python3.6/dist-packages/keras/optimizers.py:790: The name tf.train.Optimizer is deprecated. Please use tf.compat.v1.train.Optimizer instead.\n",
            "\n"
          ],
          "name": "stderr"
        }
      ]
    },
    {
      "cell_type": "code",
      "metadata": {
        "id": "hl80JD9hSfp0",
        "colab_type": "code",
        "colab": {
          "base_uri": "https://localhost:8080/",
          "height": 1000
        },
        "outputId": "45222464-f577-489e-8b92-2ce776d76207"
      },
      "source": [
        "estop = keras.callbacks.EarlyStopping(monitor='val_loss', \n",
        "                                      min_delta=0, \n",
        "                                      patience=10, \n",
        "                                      verbose=1, \n",
        "                                      mode='auto')\n",
        "\n",
        "train_history = autoencoder.fit(train_x, \n",
        "                                train_x, \n",
        "                                epochs=200, \n",
        "                                batch_size=2048, \n",
        "                                validation_data=(val_x, val_x), \n",
        "                                callbacks=[estop])"
      ],
      "execution_count": 20,
      "outputs": [
        {
          "output_type": "stream",
          "text": [
            "W0819 14:43:16.161781 139755205625728 deprecation_wrapper.py:119] From /usr/local/lib/python3.6/dist-packages/keras/backend/tensorflow_backend.py:986: The name tf.assign_add is deprecated. Please use tf.compat.v1.assign_add instead.\n",
            "\n",
            "W0819 14:43:16.407409 139755205625728 deprecation_wrapper.py:119] From /usr/local/lib/python3.6/dist-packages/keras/backend/tensorflow_backend.py:973: The name tf.assign is deprecated. Please use tf.compat.v1.assign instead.\n",
            "\n"
          ],
          "name": "stderr"
        },
        {
          "output_type": "stream",
          "text": [
            "Train on 60000 samples, validate on 10000 samples\n",
            "Epoch 1/200\n",
            "60000/60000 [==============================] - 7s 109us/step - loss: 0.0918 - val_loss: 0.0679\n",
            "Epoch 2/200\n",
            "60000/60000 [==============================] - 2s 34us/step - loss: 0.0589 - val_loss: 0.0474\n",
            "Epoch 3/200\n",
            "60000/60000 [==============================] - 2s 35us/step - loss: 0.0426 - val_loss: 0.0386\n",
            "Epoch 4/200\n",
            "60000/60000 [==============================] - 2s 34us/step - loss: 0.0371 - val_loss: 0.0393\n",
            "Epoch 5/200\n",
            "60000/60000 [==============================] - 2s 35us/step - loss: 0.0340 - val_loss: 0.0318\n",
            "Epoch 6/200\n",
            "60000/60000 [==============================] - 2s 35us/step - loss: 0.0302 - val_loss: 0.0289\n",
            "Epoch 7/200\n",
            "60000/60000 [==============================] - 2s 35us/step - loss: 0.0274 - val_loss: 0.0259\n",
            "Epoch 8/200\n",
            "60000/60000 [==============================] - 2s 34us/step - loss: 0.0253 - val_loss: 0.0246\n",
            "Epoch 9/200\n",
            "60000/60000 [==============================] - 2s 33us/step - loss: 0.0240 - val_loss: 0.0236\n",
            "Epoch 10/200\n",
            "60000/60000 [==============================] - 2s 34us/step - loss: 0.0231 - val_loss: 0.0225\n",
            "Epoch 11/200\n",
            "60000/60000 [==============================] - 2s 34us/step - loss: 0.0222 - val_loss: 0.0217\n",
            "Epoch 12/200\n",
            "60000/60000 [==============================] - 2s 35us/step - loss: 0.0216 - val_loss: 0.0214\n",
            "Epoch 13/200\n",
            "60000/60000 [==============================] - 2s 34us/step - loss: 0.0208 - val_loss: 0.0205\n",
            "Epoch 14/200\n",
            "60000/60000 [==============================] - 2s 35us/step - loss: 0.0204 - val_loss: 0.0203\n",
            "Epoch 15/200\n",
            "60000/60000 [==============================] - 2s 34us/step - loss: 0.0199 - val_loss: 0.0198\n",
            "Epoch 16/200\n",
            "60000/60000 [==============================] - 2s 34us/step - loss: 0.0198 - val_loss: 0.0196\n",
            "Epoch 17/200\n",
            "60000/60000 [==============================] - 2s 34us/step - loss: 0.0193 - val_loss: 0.0193\n",
            "Epoch 18/200\n",
            "60000/60000 [==============================] - 2s 34us/step - loss: 0.0191 - val_loss: 0.0212\n",
            "Epoch 19/200\n",
            "60000/60000 [==============================] - 2s 34us/step - loss: 0.0193 - val_loss: 0.0188\n",
            "Epoch 20/200\n",
            "60000/60000 [==============================] - 2s 35us/step - loss: 0.0183 - val_loss: 0.0182\n",
            "Epoch 21/200\n",
            "60000/60000 [==============================] - 2s 34us/step - loss: 0.0180 - val_loss: 0.0179\n",
            "Epoch 22/200\n",
            "60000/60000 [==============================] - 2s 34us/step - loss: 0.0177 - val_loss: 0.0178\n",
            "Epoch 23/200\n",
            "60000/60000 [==============================] - 2s 34us/step - loss: 0.0173 - val_loss: 0.0171\n",
            "Epoch 24/200\n",
            "60000/60000 [==============================] - 2s 34us/step - loss: 0.0172 - val_loss: 0.0176\n",
            "Epoch 25/200\n",
            "60000/60000 [==============================] - 2s 34us/step - loss: 0.0168 - val_loss: 0.0166\n",
            "Epoch 26/200\n",
            "60000/60000 [==============================] - 2s 34us/step - loss: 0.0164 - val_loss: 0.0165\n",
            "Epoch 27/200\n",
            "60000/60000 [==============================] - 2s 34us/step - loss: 0.0161 - val_loss: 0.0161\n",
            "Epoch 28/200\n",
            "60000/60000 [==============================] - 2s 35us/step - loss: 0.0161 - val_loss: 0.0159\n",
            "Epoch 29/200\n",
            "60000/60000 [==============================] - 2s 34us/step - loss: 0.0158 - val_loss: 0.0157\n",
            "Epoch 30/200\n",
            "60000/60000 [==============================] - 2s 33us/step - loss: 0.0156 - val_loss: 0.0157\n",
            "Epoch 31/200\n",
            "60000/60000 [==============================] - 2s 34us/step - loss: 0.0153 - val_loss: 0.0154\n",
            "Epoch 32/200\n",
            "60000/60000 [==============================] - 2s 34us/step - loss: 0.0151 - val_loss: 0.0153\n",
            "Epoch 33/200\n",
            "60000/60000 [==============================] - 2s 35us/step - loss: 0.0151 - val_loss: 0.0155\n",
            "Epoch 34/200\n",
            "60000/60000 [==============================] - 2s 35us/step - loss: 0.0149 - val_loss: 0.0149\n",
            "Epoch 35/200\n",
            "60000/60000 [==============================] - 2s 35us/step - loss: 0.0148 - val_loss: 0.0149\n",
            "Epoch 36/200\n",
            "60000/60000 [==============================] - 2s 34us/step - loss: 0.0146 - val_loss: 0.0149\n",
            "Epoch 37/200\n",
            "60000/60000 [==============================] - 2s 34us/step - loss: 0.0144 - val_loss: 0.0146\n",
            "Epoch 38/200\n",
            "60000/60000 [==============================] - 2s 34us/step - loss: 0.0145 - val_loss: 0.0145\n",
            "Epoch 39/200\n",
            "60000/60000 [==============================] - 2s 35us/step - loss: 0.0142 - val_loss: 0.0145\n",
            "Epoch 40/200\n",
            "60000/60000 [==============================] - 2s 35us/step - loss: 0.0141 - val_loss: 0.0143\n",
            "Epoch 41/200\n",
            "60000/60000 [==============================] - 2s 35us/step - loss: 0.0140 - val_loss: 0.0142\n",
            "Epoch 42/200\n",
            "60000/60000 [==============================] - 2s 35us/step - loss: 0.0141 - val_loss: 0.0147\n",
            "Epoch 43/200\n",
            "60000/60000 [==============================] - 2s 35us/step - loss: 0.0139 - val_loss: 0.0140\n",
            "Epoch 44/200\n",
            "60000/60000 [==============================] - 2s 36us/step - loss: 0.0137 - val_loss: 0.0145\n",
            "Epoch 45/200\n",
            "60000/60000 [==============================] - 2s 35us/step - loss: 0.0139 - val_loss: 0.0139\n",
            "Epoch 46/200\n",
            "60000/60000 [==============================] - 2s 34us/step - loss: 0.0135 - val_loss: 0.0138\n",
            "Epoch 47/200\n",
            "60000/60000 [==============================] - 2s 34us/step - loss: 0.0136 - val_loss: 0.0139\n",
            "Epoch 48/200\n",
            "60000/60000 [==============================] - 2s 34us/step - loss: 0.0134 - val_loss: 0.0137\n",
            "Epoch 49/200\n",
            "60000/60000 [==============================] - 2s 35us/step - loss: 0.0134 - val_loss: 0.0139\n",
            "Epoch 50/200\n",
            "60000/60000 [==============================] - 2s 35us/step - loss: 0.0134 - val_loss: 0.0136\n",
            "Epoch 51/200\n",
            "60000/60000 [==============================] - 2s 34us/step - loss: 0.0133 - val_loss: 0.0136\n",
            "Epoch 52/200\n",
            "60000/60000 [==============================] - 2s 34us/step - loss: 0.0132 - val_loss: 0.0135\n",
            "Epoch 53/200\n",
            "60000/60000 [==============================] - 2s 34us/step - loss: 0.0133 - val_loss: 0.0135\n",
            "Epoch 54/200\n",
            "60000/60000 [==============================] - 2s 33us/step - loss: 0.0131 - val_loss: 0.0134\n",
            "Epoch 55/200\n",
            "60000/60000 [==============================] - 2s 34us/step - loss: 0.0130 - val_loss: 0.0134\n",
            "Epoch 56/200\n",
            "60000/60000 [==============================] - 2s 34us/step - loss: 0.0132 - val_loss: 0.0134\n",
            "Epoch 57/200\n",
            "60000/60000 [==============================] - 2s 34us/step - loss: 0.0128 - val_loss: 0.0134\n",
            "Epoch 58/200\n",
            "60000/60000 [==============================] - 2s 35us/step - loss: 0.0130 - val_loss: 0.0133\n",
            "Epoch 59/200\n",
            "60000/60000 [==============================] - 2s 35us/step - loss: 0.0129 - val_loss: 0.0134\n",
            "Epoch 60/200\n",
            "60000/60000 [==============================] - 2s 35us/step - loss: 0.0128 - val_loss: 0.0132\n",
            "Epoch 61/200\n",
            "60000/60000 [==============================] - 2s 35us/step - loss: 0.0128 - val_loss: 0.0134\n",
            "Epoch 62/200\n",
            "60000/60000 [==============================] - 2s 35us/step - loss: 0.0127 - val_loss: 0.0132\n",
            "Epoch 63/200\n",
            "60000/60000 [==============================] - 2s 34us/step - loss: 0.0128 - val_loss: 0.0133\n",
            "Epoch 64/200\n",
            "60000/60000 [==============================] - 2s 35us/step - loss: 0.0127 - val_loss: 0.0131\n",
            "Epoch 65/200\n",
            "60000/60000 [==============================] - 2s 35us/step - loss: 0.0127 - val_loss: 0.0131\n",
            "Epoch 66/200\n",
            "60000/60000 [==============================] - 2s 34us/step - loss: 0.0125 - val_loss: 0.0131\n",
            "Epoch 67/200\n",
            "60000/60000 [==============================] - 2s 33us/step - loss: 0.0125 - val_loss: 0.0134\n",
            "Epoch 68/200\n",
            "60000/60000 [==============================] - 2s 34us/step - loss: 0.0126 - val_loss: 0.0130\n",
            "Epoch 69/200\n",
            "60000/60000 [==============================] - 2s 34us/step - loss: 0.0125 - val_loss: 0.0129\n",
            "Epoch 70/200\n",
            "60000/60000 [==============================] - 2s 34us/step - loss: 0.0124 - val_loss: 0.0128\n",
            "Epoch 71/200\n",
            "60000/60000 [==============================] - 2s 34us/step - loss: 0.0124 - val_loss: 0.0131\n",
            "Epoch 72/200\n",
            "60000/60000 [==============================] - 2s 34us/step - loss: 0.0123 - val_loss: 0.0128\n",
            "Epoch 73/200\n",
            "60000/60000 [==============================] - 2s 34us/step - loss: 0.0123 - val_loss: 0.0130\n",
            "Epoch 74/200\n",
            "60000/60000 [==============================] - 2s 35us/step - loss: 0.0123 - val_loss: 0.0127\n",
            "Epoch 75/200\n",
            "60000/60000 [==============================] - 2s 35us/step - loss: 0.0123 - val_loss: 0.0129\n",
            "Epoch 76/200\n",
            "60000/60000 [==============================] - 2s 35us/step - loss: 0.0122 - val_loss: 0.0127\n",
            "Epoch 77/200\n",
            "60000/60000 [==============================] - 2s 35us/step - loss: 0.0122 - val_loss: 0.0128\n",
            "Epoch 78/200\n",
            "60000/60000 [==============================] - 2s 35us/step - loss: 0.0122 - val_loss: 0.0127\n",
            "Epoch 79/200\n",
            "60000/60000 [==============================] - 2s 35us/step - loss: 0.0122 - val_loss: 0.0127\n",
            "Epoch 80/200\n",
            "60000/60000 [==============================] - 2s 34us/step - loss: 0.0121 - val_loss: 0.0127\n",
            "Epoch 81/200\n",
            "60000/60000 [==============================] - 2s 35us/step - loss: 0.0121 - val_loss: 0.0127\n",
            "Epoch 82/200\n",
            "60000/60000 [==============================] - 2s 35us/step - loss: 0.0120 - val_loss: 0.0126\n",
            "Epoch 83/200\n",
            "60000/60000 [==============================] - 2s 35us/step - loss: 0.0121 - val_loss: 0.0129\n",
            "Epoch 84/200\n",
            "60000/60000 [==============================] - 2s 34us/step - loss: 0.0120 - val_loss: 0.0127\n",
            "Epoch 85/200\n",
            "60000/60000 [==============================] - 2s 33us/step - loss: 0.0120 - val_loss: 0.0130\n",
            "Epoch 86/200\n",
            "60000/60000 [==============================] - 2s 33us/step - loss: 0.0120 - val_loss: 0.0125\n",
            "Epoch 87/200\n",
            "60000/60000 [==============================] - 2s 33us/step - loss: 0.0119 - val_loss: 0.0125\n",
            "Epoch 88/200\n",
            "60000/60000 [==============================] - 2s 35us/step - loss: 0.0120 - val_loss: 0.0127\n",
            "Epoch 89/200\n",
            "60000/60000 [==============================] - 2s 35us/step - loss: 0.0119 - val_loss: 0.0124\n",
            "Epoch 90/200\n",
            "60000/60000 [==============================] - 2s 35us/step - loss: 0.0118 - val_loss: 0.0125\n",
            "Epoch 91/200\n",
            "60000/60000 [==============================] - 2s 34us/step - loss: 0.0118 - val_loss: 0.0125\n",
            "Epoch 92/200\n",
            "60000/60000 [==============================] - 2s 35us/step - loss: 0.0119 - val_loss: 0.0124\n",
            "Epoch 93/200\n",
            "60000/60000 [==============================] - 2s 34us/step - loss: 0.0117 - val_loss: 0.0128\n",
            "Epoch 94/200\n",
            "60000/60000 [==============================] - 2s 35us/step - loss: 0.0118 - val_loss: 0.0124\n",
            "Epoch 95/200\n",
            "60000/60000 [==============================] - 2s 34us/step - loss: 0.0117 - val_loss: 0.0123\n",
            "Epoch 96/200\n",
            "60000/60000 [==============================] - 2s 34us/step - loss: 0.0117 - val_loss: 0.0125\n",
            "Epoch 97/200\n",
            "60000/60000 [==============================] - 2s 34us/step - loss: 0.0116 - val_loss: 0.0123\n",
            "Epoch 98/200\n",
            "60000/60000 [==============================] - 2s 34us/step - loss: 0.0116 - val_loss: 0.0124\n",
            "Epoch 99/200\n",
            "60000/60000 [==============================] - 2s 34us/step - loss: 0.0116 - val_loss: 0.0123\n",
            "Epoch 100/200\n",
            "60000/60000 [==============================] - 2s 33us/step - loss: 0.0116 - val_loss: 0.0123\n",
            "Epoch 101/200\n",
            "60000/60000 [==============================] - 2s 34us/step - loss: 0.0118 - val_loss: 0.0125\n",
            "Epoch 102/200\n",
            "60000/60000 [==============================] - 2s 35us/step - loss: 0.0115 - val_loss: 0.0122\n",
            "Epoch 103/200\n",
            "60000/60000 [==============================] - 2s 35us/step - loss: 0.0115 - val_loss: 0.0123\n",
            "Epoch 104/200\n",
            "60000/60000 [==============================] - 2s 34us/step - loss: 0.0114 - val_loss: 0.0122\n",
            "Epoch 105/200\n",
            "60000/60000 [==============================] - 2s 34us/step - loss: 0.0116 - val_loss: 0.0123\n",
            "Epoch 106/200\n",
            "60000/60000 [==============================] - 2s 34us/step - loss: 0.0115 - val_loss: 0.0121\n",
            "Epoch 107/200\n",
            "60000/60000 [==============================] - 2s 34us/step - loss: 0.0114 - val_loss: 0.0121\n",
            "Epoch 108/200\n",
            "60000/60000 [==============================] - 2s 34us/step - loss: 0.0114 - val_loss: 0.0127\n",
            "Epoch 109/200\n",
            "60000/60000 [==============================] - 2s 34us/step - loss: 0.0115 - val_loss: 0.0121\n",
            "Epoch 110/200\n",
            "60000/60000 [==============================] - 2s 34us/step - loss: 0.0113 - val_loss: 0.0122\n",
            "Epoch 111/200\n",
            "60000/60000 [==============================] - 2s 34us/step - loss: 0.0113 - val_loss: 0.0121\n",
            "Epoch 112/200\n",
            "60000/60000 [==============================] - 2s 33us/step - loss: 0.0114 - val_loss: 0.0121\n",
            "Epoch 113/200\n",
            "60000/60000 [==============================] - 2s 34us/step - loss: 0.0112 - val_loss: 0.0121\n",
            "Epoch 114/200\n",
            "60000/60000 [==============================] - 2s 34us/step - loss: 0.0113 - val_loss: 0.0122\n",
            "Epoch 115/200\n",
            "60000/60000 [==============================] - 2s 33us/step - loss: 0.0113 - val_loss: 0.0121\n",
            "Epoch 116/200\n",
            "60000/60000 [==============================] - 2s 34us/step - loss: 0.0111 - val_loss: 0.0121\n",
            "Epoch 117/200\n",
            "60000/60000 [==============================] - 2s 33us/step - loss: 0.0112 - val_loss: 0.0121\n",
            "Epoch 118/200\n",
            "60000/60000 [==============================] - 2s 35us/step - loss: 0.0113 - val_loss: 0.0121\n",
            "Epoch 119/200\n",
            "60000/60000 [==============================] - 2s 34us/step - loss: 0.0112 - val_loss: 0.0121\n",
            "Epoch 120/200\n",
            "60000/60000 [==============================] - 2s 33us/step - loss: 0.0111 - val_loss: 0.0120\n",
            "Epoch 121/200\n",
            "60000/60000 [==============================] - 2s 33us/step - loss: 0.0111 - val_loss: 0.0121\n",
            "Epoch 122/200\n",
            "60000/60000 [==============================] - 2s 34us/step - loss: 0.0111 - val_loss: 0.0119\n",
            "Epoch 123/200\n",
            "60000/60000 [==============================] - 2s 33us/step - loss: 0.0112 - val_loss: 0.0122\n",
            "Epoch 124/200\n",
            "60000/60000 [==============================] - 2s 33us/step - loss: 0.0111 - val_loss: 0.0119\n",
            "Epoch 125/200\n",
            "60000/60000 [==============================] - 2s 34us/step - loss: 0.0110 - val_loss: 0.0119\n",
            "Epoch 126/200\n",
            "60000/60000 [==============================] - 2s 34us/step - loss: 0.0110 - val_loss: 0.0121\n",
            "Epoch 127/200\n",
            "60000/60000 [==============================] - 2s 34us/step - loss: 0.0110 - val_loss: 0.0120\n",
            "Epoch 128/200\n",
            "60000/60000 [==============================] - 2s 34us/step - loss: 0.0110 - val_loss: 0.0119\n",
            "Epoch 129/200\n",
            "60000/60000 [==============================] - 2s 34us/step - loss: 0.0111 - val_loss: 0.0119\n",
            "Epoch 130/200\n",
            "60000/60000 [==============================] - 2s 34us/step - loss: 0.0109 - val_loss: 0.0119\n",
            "Epoch 131/200\n",
            "60000/60000 [==============================] - 2s 34us/step - loss: 0.0109 - val_loss: 0.0119\n",
            "Epoch 132/200\n",
            "60000/60000 [==============================] - 2s 34us/step - loss: 0.0111 - val_loss: 0.0119\n",
            "Epoch 133/200\n",
            "60000/60000 [==============================] - 2s 34us/step - loss: 0.0109 - val_loss: 0.0120\n",
            "Epoch 134/200\n",
            "60000/60000 [==============================] - 2s 34us/step - loss: 0.0110 - val_loss: 0.0119\n",
            "Epoch 135/200\n",
            "60000/60000 [==============================] - 2s 33us/step - loss: 0.0109 - val_loss: 0.0120\n",
            "Epoch 136/200\n",
            "60000/60000 [==============================] - 2s 33us/step - loss: 0.0109 - val_loss: 0.0118\n",
            "Epoch 137/200\n",
            "60000/60000 [==============================] - 2s 34us/step - loss: 0.0108 - val_loss: 0.0118\n",
            "Epoch 138/200\n",
            "60000/60000 [==============================] - 2s 33us/step - loss: 0.0109 - val_loss: 0.0119\n",
            "Epoch 139/200\n",
            "60000/60000 [==============================] - 2s 34us/step - loss: 0.0108 - val_loss: 0.0118\n",
            "Epoch 140/200\n",
            "60000/60000 [==============================] - 2s 34us/step - loss: 0.0109 - val_loss: 0.0118\n",
            "Epoch 141/200\n",
            "60000/60000 [==============================] - 2s 34us/step - loss: 0.0108 - val_loss: 0.0118\n",
            "Epoch 142/200\n",
            "60000/60000 [==============================] - 2s 34us/step - loss: 0.0108 - val_loss: 0.0120\n",
            "Epoch 143/200\n",
            "60000/60000 [==============================] - 2s 34us/step - loss: 0.0108 - val_loss: 0.0118\n",
            "Epoch 144/200\n",
            "60000/60000 [==============================] - 2s 37us/step - loss: 0.0108 - val_loss: 0.0118\n",
            "Epoch 145/200\n",
            "60000/60000 [==============================] - 2s 35us/step - loss: 0.0108 - val_loss: 0.0118\n",
            "Epoch 146/200\n",
            "60000/60000 [==============================] - 2s 35us/step - loss: 0.0107 - val_loss: 0.0117\n",
            "Epoch 147/200\n",
            "60000/60000 [==============================] - 2s 35us/step - loss: 0.0107 - val_loss: 0.0118\n",
            "Epoch 148/200\n",
            "60000/60000 [==============================] - 2s 34us/step - loss: 0.0108 - val_loss: 0.0118\n",
            "Epoch 149/200\n",
            "60000/60000 [==============================] - 2s 34us/step - loss: 0.0106 - val_loss: 0.0117\n",
            "Epoch 150/200\n",
            "60000/60000 [==============================] - 2s 34us/step - loss: 0.0107 - val_loss: 0.0117\n",
            "Epoch 151/200\n",
            "60000/60000 [==============================] - 2s 35us/step - loss: 0.0106 - val_loss: 0.0117\n",
            "Epoch 152/200\n",
            "60000/60000 [==============================] - 2s 36us/step - loss: 0.0109 - val_loss: 0.0118\n",
            "Epoch 153/200\n",
            "60000/60000 [==============================] - 2s 35us/step - loss: 0.0106 - val_loss: 0.0117\n",
            "Epoch 154/200\n",
            "60000/60000 [==============================] - 2s 35us/step - loss: 0.0106 - val_loss: 0.0117\n",
            "Epoch 155/200\n",
            "60000/60000 [==============================] - 2s 35us/step - loss: 0.0106 - val_loss: 0.0117\n",
            "Epoch 156/200\n",
            "60000/60000 [==============================] - 2s 35us/step - loss: 0.0105 - val_loss: 0.0118\n",
            "Epoch 157/200\n",
            "60000/60000 [==============================] - 2s 35us/step - loss: 0.0106 - val_loss: 0.0117\n",
            "Epoch 158/200\n",
            "60000/60000 [==============================] - 2s 33us/step - loss: 0.0105 - val_loss: 0.0121\n",
            "Epoch 159/200\n",
            "60000/60000 [==============================] - 2s 34us/step - loss: 0.0107 - val_loss: 0.0116\n",
            "Epoch 160/200\n",
            "60000/60000 [==============================] - 2s 34us/step - loss: 0.0105 - val_loss: 0.0116\n",
            "Epoch 161/200\n",
            "60000/60000 [==============================] - 2s 35us/step - loss: 0.0106 - val_loss: 0.0118\n",
            "Epoch 162/200\n",
            "60000/60000 [==============================] - 2s 34us/step - loss: 0.0105 - val_loss: 0.0116\n",
            "Epoch 163/200\n",
            "60000/60000 [==============================] - 2s 34us/step - loss: 0.0105 - val_loss: 0.0116\n",
            "Epoch 164/200\n",
            "60000/60000 [==============================] - 2s 34us/step - loss: 0.0106 - val_loss: 0.0117\n",
            "Epoch 165/200\n",
            "60000/60000 [==============================] - 2s 35us/step - loss: 0.0105 - val_loss: 0.0116\n",
            "Epoch 166/200\n",
            "60000/60000 [==============================] - 2s 34us/step - loss: 0.0104 - val_loss: 0.0117\n",
            "Epoch 167/200\n",
            "60000/60000 [==============================] - 2s 34us/step - loss: 0.0104 - val_loss: 0.0116\n",
            "Epoch 168/200\n",
            "60000/60000 [==============================] - 2s 34us/step - loss: 0.0107 - val_loss: 0.0116\n",
            "Epoch 169/200\n",
            "60000/60000 [==============================] - 2s 34us/step - loss: 0.0104 - val_loss: 0.0116\n",
            "Epoch 170/200\n",
            "60000/60000 [==============================] - 2s 34us/step - loss: 0.0104 - val_loss: 0.0116\n",
            "Epoch 171/200\n",
            "60000/60000 [==============================] - 2s 34us/step - loss: 0.0104 - val_loss: 0.0118\n",
            "Epoch 172/200\n",
            "60000/60000 [==============================] - 2s 34us/step - loss: 0.0104 - val_loss: 0.0116\n",
            "Epoch 173/200\n",
            "60000/60000 [==============================] - 2s 35us/step - loss: 0.0104 - val_loss: 0.0116\n",
            "Epoch 174/200\n",
            "60000/60000 [==============================] - 2s 34us/step - loss: 0.0104 - val_loss: 0.0117\n",
            "Epoch 175/200\n",
            "60000/60000 [==============================] - 2s 35us/step - loss: 0.0104 - val_loss: 0.0116\n",
            "Epoch 176/200\n",
            "60000/60000 [==============================] - 2s 35us/step - loss: 0.0103 - val_loss: 0.0118\n",
            "Epoch 177/200\n",
            "60000/60000 [==============================] - 2s 35us/step - loss: 0.0106 - val_loss: 0.0115\n",
            "Epoch 178/200\n",
            "60000/60000 [==============================] - 2s 34us/step - loss: 0.0103 - val_loss: 0.0115\n",
            "Epoch 179/200\n",
            "60000/60000 [==============================] - 2s 35us/step - loss: 0.0103 - val_loss: 0.0116\n",
            "Epoch 180/200\n",
            "60000/60000 [==============================] - 2s 35us/step - loss: 0.0104 - val_loss: 0.0115\n",
            "Epoch 181/200\n",
            "60000/60000 [==============================] - 2s 35us/step - loss: 0.0102 - val_loss: 0.0115\n",
            "Epoch 182/200\n",
            "60000/60000 [==============================] - 2s 34us/step - loss: 0.0103 - val_loss: 0.0119\n",
            "Epoch 183/200\n",
            "60000/60000 [==============================] - 2s 35us/step - loss: 0.0104 - val_loss: 0.0117\n",
            "Epoch 184/200\n",
            "60000/60000 [==============================] - 2s 35us/step - loss: 0.0103 - val_loss: 0.0115\n",
            "Epoch 185/200\n",
            "60000/60000 [==============================] - 2s 35us/step - loss: 0.0102 - val_loss: 0.0115\n",
            "Epoch 186/200\n",
            "60000/60000 [==============================] - 2s 34us/step - loss: 0.0103 - val_loss: 0.0116\n",
            "Epoch 187/200\n",
            "60000/60000 [==============================] - 2s 34us/step - loss: 0.0103 - val_loss: 0.0116\n",
            "Epoch 188/200\n",
            "60000/60000 [==============================] - 2s 35us/step - loss: 0.0102 - val_loss: 0.0117\n",
            "Epoch 189/200\n",
            "60000/60000 [==============================] - 2s 35us/step - loss: 0.0102 - val_loss: 0.0115\n",
            "Epoch 190/200\n",
            "60000/60000 [==============================] - 2s 35us/step - loss: 0.0102 - val_loss: 0.0116\n",
            "Epoch 191/200\n",
            "60000/60000 [==============================] - 2s 35us/step - loss: 0.0103 - val_loss: 0.0116\n",
            "Epoch 192/200\n",
            "60000/60000 [==============================] - 2s 35us/step - loss: 0.0102 - val_loss: 0.0116\n",
            "Epoch 193/200\n",
            "60000/60000 [==============================] - 2s 35us/step - loss: 0.0103 - val_loss: 0.0115\n",
            "Epoch 194/200\n",
            "60000/60000 [==============================] - 2s 35us/step - loss: 0.0101 - val_loss: 0.0115\n",
            "Epoch 195/200\n",
            "60000/60000 [==============================] - 2s 36us/step - loss: 0.0101 - val_loss: 0.0115\n",
            "Epoch 196/200\n",
            "60000/60000 [==============================] - 2s 35us/step - loss: 0.0103 - val_loss: 0.0118\n",
            "Epoch 197/200\n",
            "60000/60000 [==============================] - 2s 34us/step - loss: 0.0102 - val_loss: 0.0115\n",
            "Epoch 198/200\n",
            "60000/60000 [==============================] - 2s 34us/step - loss: 0.0101 - val_loss: 0.0116\n",
            "Epoch 199/200\n",
            "60000/60000 [==============================] - 2s 35us/step - loss: 0.0101 - val_loss: 0.0115\n",
            "Epoch 200/200\n",
            "60000/60000 [==============================] - 2s 35us/step - loss: 0.0102 - val_loss: 0.0116\n"
          ],
          "name": "stdout"
        }
      ]
    },
    {
      "cell_type": "markdown",
      "metadata": {
        "id": "xpPOeGOWYct0",
        "colab_type": "text"
      },
      "source": [
        "### Predictions"
      ]
    },
    {
      "cell_type": "code",
      "metadata": {
        "id": "B6jIeLFAVQR8",
        "colab_type": "code",
        "colab": {}
      },
      "source": [
        "pred = autoencoder.predict(val_x)"
      ],
      "execution_count": 0,
      "outputs": []
    },
    {
      "cell_type": "code",
      "metadata": {
        "id": "IfY4s--rYi3U",
        "colab_type": "code",
        "colab": {
          "base_uri": "https://localhost:8080/",
          "height": 286
        },
        "outputId": "1e140fd5-599d-4e15-9487-3a80c9e710c6"
      },
      "source": [
        "plt.imshow(pred[0].reshape(28, 28), cmap='gray')"
      ],
      "execution_count": 22,
      "outputs": [
        {
          "output_type": "execute_result",
          "data": {
            "text/plain": [
              "<matplotlib.image.AxesImage at 0x7f1ae028cc50>"
            ]
          },
          "metadata": {
            "tags": []
          },
          "execution_count": 22
        },
        {
          "output_type": "display_data",
          "data": {
            "image/png": "[encoded data removed]",
            "text/plain": [
              "<Figure size 432x288 with 1 Axes>"
            ]
          },
          "metadata": {
            "tags": []
          }
        }
      ]
    },
    {
      "cell_type": "code",
      "metadata": {
        "id": "GmlcQ_NaYlfz",
        "colab_type": "code",
        "colab": {
          "base_uri": "https://localhost:8080/",
          "height": 286
        },
        "outputId": "15b9af0d-a475-4f51-ba8c-5daa36f9f37b"
      },
      "source": [
        "plt.imshow(val_x[0].reshape(28, 28), cmap='gray')"
      ],
      "execution_count": 23,
      "outputs": [
        {
          "output_type": "execute_result",
          "data": {
            "text/plain": [
              "<matplotlib.image.AxesImage at 0x7f1ae021d898>"
            ]
          },
          "metadata": {
            "tags": []
          },
          "execution_count": 23
        },
        {
          "output_type": "display_data",
          "data": {
            "image/png": "[encoded data removed]",
            "text/plain": [
              "<Figure size 432x288 with 1 Axes>"
            ]
          },
          "metadata": {
            "tags": []
          }
        }
      ]
    },
    {
      "cell_type": "markdown",
      "metadata": {
        "id": "bcYetE8IY7b9",
        "colab_type": "text"
      },
      "source": [
        "This model performs almost similar to the vanilla autoencoder like in the image_reconstruction notebook. But on inspecting the output of the encoder model, we can see that it uses much more sparse information to represent the original image."
      ]
    }
  ]
}