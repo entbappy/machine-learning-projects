{
  "nbformat": 4,
  "nbformat_minor": 0,
  "metadata": {
    "colab": {
      "name": "image_reconstruction_autoencoder.ipynb",
      "version": "0.3.2",
      "provenance": []
    },
    "kernelspec": {
      "name": "python3",
      "display_name": "Python 3"
    }
  },
  "cells": [
    {
      "cell_type": "markdown",
      "metadata": {
        "id": "qRwIHiWWVNq5",
        "colab_type": "text"
      },
      "source": [
        "# Image Reconstruction using a simple AutoEncoder"
      ]
    },
    {
      "cell_type": "code",
      "metadata": {
        "id": "i1giPRVT-dAi",
        "colab_type": "code",
        "colab": {
          "base_uri": "https://localhost:8080/",
          "height": 34
        },
        "outputId": "320171c9-143f-4f39-921e-99c8bc581649"
      },
      "source": [
        "from keras.datasets import fashion_mnist"
      ],
      "execution_count": 3,
      "outputs": [
        {
          "output_type": "stream",
          "text": [
            "Using TensorFlow backend.\n"
          ],
          "name": "stderr"
        }
      ]
    },
    {
      "cell_type": "code",
      "metadata": {
        "id": "9QAMDWJj-ofz",
        "colab_type": "code",
        "colab": {
          "base_uri": "https://localhost:8080/",
          "height": 34
        },
        "outputId": "116c7a24-9e9b-4cfb-f580-06cbe725f2b4"
      },
      "source": [
        "%pylab inline\n",
        "import os\n",
        "import keras\n",
        "import numpy as np\n",
        "import pandas as pd\n",
        "import keras.backend as K\n",
        "\n",
        "from time import time\n",
        "from sklearn.cluster import KMeans\n",
        "from keras import callbacks\n",
        "from keras.models import Model\n",
        "from keras.optimizers import SGD\n",
        "from keras.layers import Dense, Input\n",
        "from keras.initializers import VarianceScaling\n",
        "from keras.engine.topology import Layer, InputSpec\n",
        "\n",
        "from scipy.misc import imread\n",
        "from sklearn.metrics import accuracy_score, normalized_mutual_info_score"
      ],
      "execution_count": 4,
      "outputs": [
        {
          "output_type": "stream",
          "text": [
            "Populating the interactive namespace from numpy and matplotlib\n"
          ],
          "name": "stdout"
        }
      ]
    },
    {
      "cell_type": "markdown",
      "metadata": {
        "id": "mONi7LMT-vuy",
        "colab_type": "text"
      },
      "source": [
        "### Download image data and read in numpy format"
      ]
    },
    {
      "cell_type": "code",
      "metadata": {
        "id": "tfaldni_-rah",
        "colab_type": "code",
        "colab": {
          "base_uri": "https://localhost:8080/",
          "height": 151
        },
        "outputId": "21c4f9da-9293-4728-f153-f54f63f7bbce"
      },
      "source": [
        "(train_x, train_y), (val_x, val_y) = fashion_mnist.load_data()"
      ],
      "execution_count": 5,
      "outputs": [
        {
          "output_type": "stream",
          "text": [
            "Downloading data from http://fashion-mnist.s3-website.eu-central-1.amazonaws.com/train-labels-idx1-ubyte.gz\n",
            "32768/29515 [=================================] - 0s 4us/step\n",
            "Downloading data from http://fashion-mnist.s3-website.eu-central-1.amazonaws.com/train-images-idx3-ubyte.gz\n",
            "26427392/26421880 [==============================] - 2s 0us/step\n",
            "Downloading data from http://fashion-mnist.s3-website.eu-central-1.amazonaws.com/t10k-labels-idx1-ubyte.gz\n",
            "8192/5148 [===============================================] - 0s 0us/step\n",
            "Downloading data from http://fashion-mnist.s3-website.eu-central-1.amazonaws.com/t10k-images-idx3-ubyte.gz\n",
            "4423680/4422102 [==============================] - 1s 0us/step\n"
          ],
          "name": "stdout"
        }
      ]
    },
    {
      "cell_type": "markdown",
      "metadata": {
        "id": "pOOeWn3d_A-T",
        "colab_type": "text"
      },
      "source": [
        "### Normalize the data and reshape"
      ]
    },
    {
      "cell_type": "code",
      "metadata": {
        "id": "eIq4KBgG-47i",
        "colab_type": "code",
        "colab": {}
      },
      "source": [
        "train_x = train_x/255.\n",
        "val_x = val_x/255.\n",
        "\n",
        "train_x = train_x.reshape(-1, 784)\n",
        "val_x = val_x.reshape(-1, 784)"
      ],
      "execution_count": 0,
      "outputs": []
    },
    {
      "cell_type": "code",
      "metadata": {
        "id": "ho6saG3g_ZNC",
        "colab_type": "code",
        "colab": {
          "base_uri": "https://localhost:8080/",
          "height": 34
        },
        "outputId": "280d860f-b510-4614-bec3-050f2e8eeb19"
      },
      "source": [
        "train_x.shape"
      ],
      "execution_count": 7,
      "outputs": [
        {
          "output_type": "execute_result",
          "data": {
            "text/plain": [
              "(60000, 784)"
            ]
          },
          "metadata": {
            "tags": []
          },
          "execution_count": 7
        }
      ]
    },
    {
      "cell_type": "markdown",
      "metadata": {
        "id": "heFnG0oK_qOL",
        "colab_type": "text"
      },
      "source": [
        "### Autoencoder Model"
      ]
    },
    {
      "cell_type": "code",
      "metadata": {
        "id": "TBGqKRGy_c_S",
        "colab_type": "code",
        "colab": {
          "base_uri": "https://localhost:8080/",
          "height": 121
        },
        "outputId": "4746fdbc-35f3-475c-97cc-a7d17b35a45f"
      },
      "source": [
        "input_img = Input(shape=(784,))"
      ],
      "execution_count": 8,
      "outputs": [
        {
          "output_type": "stream",
          "text": [
            "WARNING: Logging before flag parsing goes to stderr.\n",
            "W0818 14:01:35.040404 140069399033728 deprecation_wrapper.py:119] From /usr/local/lib/python3.6/dist-packages/keras/backend/tensorflow_backend.py:74: The name tf.get_default_graph is deprecated. Please use tf.compat.v1.get_default_graph instead.\n",
            "\n",
            "W0818 14:01:35.093554 140069399033728 deprecation_wrapper.py:119] From /usr/local/lib/python3.6/dist-packages/keras/backend/tensorflow_backend.py:517: The name tf.placeholder is deprecated. Please use tf.compat.v1.placeholder instead.\n",
            "\n"
          ],
          "name": "stderr"
        }
      ]
    },
    {
      "cell_type": "markdown",
      "metadata": {
        "id": "-rHk5QO0Cn7r",
        "colab_type": "text"
      },
      "source": [
        "#### Encoded part"
      ]
    },
    {
      "cell_type": "code",
      "metadata": {
        "id": "Zp7bHXeOCHwi",
        "colab_type": "code",
        "colab": {
          "base_uri": "https://localhost:8080/",
          "height": 70
        },
        "outputId": "e88dfb40-04fe-46cf-fe4b-5f727d0ceaed"
      },
      "source": [
        "encoded = Dense(2000, activation='relu')(input_img)\n",
        "encoded = Dense(500, activation='relu')(encoded)\n",
        "encoded = Dense(500, activation='relu')(encoded)\n",
        "encoded = Dense(10, activation='sigmoid')(encoded)"
      ],
      "execution_count": 9,
      "outputs": [
        {
          "output_type": "stream",
          "text": [
            "W0818 14:04:09.906607 140069399033728 deprecation_wrapper.py:119] From /usr/local/lib/python3.6/dist-packages/keras/backend/tensorflow_backend.py:4138: The name tf.random_uniform is deprecated. Please use tf.random.uniform instead.\n",
            "\n"
          ],
          "name": "stderr"
        }
      ]
    },
    {
      "cell_type": "markdown",
      "metadata": {
        "id": "7ukhyP0eCv9S",
        "colab_type": "text"
      },
      "source": [
        "#### Decoded part"
      ]
    },
    {
      "cell_type": "code",
      "metadata": {
        "id": "ea8lJ7JtCtnx",
        "colab_type": "code",
        "colab": {}
      },
      "source": [
        "decoded = Dense(500, activation='relu')(encoded)\n",
        "decoded = Dense(500, activation='relu')(decoded)\n",
        "decoded = Dense(2000, activation='relu')(decoded)\n",
        "decoded = Dense(784)(decoded)"
      ],
      "execution_count": 0,
      "outputs": []
    },
    {
      "cell_type": "code",
      "metadata": {
        "id": "JngvhaWgC0Vi",
        "colab_type": "code",
        "colab": {}
      },
      "source": [
        "# this model maps an input to its reconstruction\n",
        "autoencoder = Model(input_img, decoded)"
      ],
      "execution_count": 0,
      "outputs": []
    },
    {
      "cell_type": "markdown",
      "metadata": {
        "id": "CMh16PhCC-ox",
        "colab_type": "text"
      },
      "source": [
        "### Model Summary"
      ]
    },
    {
      "cell_type": "code",
      "metadata": {
        "id": "L7adGdMcC8RR",
        "colab_type": "code",
        "colab": {
          "base_uri": "https://localhost:8080/",
          "height": 437
        },
        "outputId": "80be949a-bb29-4880-eaa3-8969743b8db3"
      },
      "source": [
        "autoencoder.summary()"
      ],
      "execution_count": 12,
      "outputs": [
        {
          "output_type": "stream",
          "text": [
            "_________________________________________________________________\n",
            "Layer (type)                 Output Shape              Param #   \n",
            "=================================================================\n",
            "input_1 (InputLayer)         (None, 784)               0         \n",
            "_________________________________________________________________\n",
            "dense_1 (Dense)              (None, 2000)              1570000   \n",
            "_________________________________________________________________\n",
            "dense_2 (Dense)              (None, 500)               1000500   \n",
            "_________________________________________________________________\n",
            "dense_3 (Dense)              (None, 500)               250500    \n",
            "_________________________________________________________________\n",
            "dense_4 (Dense)              (None, 10)                5010      \n",
            "_________________________________________________________________\n",
            "dense_5 (Dense)              (None, 500)               5500      \n",
            "_________________________________________________________________\n",
            "dense_6 (Dense)              (None, 500)               250500    \n",
            "_________________________________________________________________\n",
            "dense_7 (Dense)              (None, 2000)              1002000   \n",
            "_________________________________________________________________\n",
            "dense_8 (Dense)              (None, 784)               1568784   \n",
            "=================================================================\n",
            "Total params: 5,652,794\n",
            "Trainable params: 5,652,794\n",
            "Non-trainable params: 0\n",
            "_________________________________________________________________\n"
          ],
          "name": "stdout"
        }
      ]
    },
    {
      "cell_type": "code",
      "metadata": {
        "id": "3BTrP22_DGSx",
        "colab_type": "code",
        "colab": {}
      },
      "source": [
        "encoder = Model(input_img, encoded)"
      ],
      "execution_count": 0,
      "outputs": []
    },
    {
      "cell_type": "code",
      "metadata": {
        "id": "cHHnpKcvDSFx",
        "colab_type": "code",
        "colab": {
          "base_uri": "https://localhost:8080/",
          "height": 70
        },
        "outputId": "6de72f2d-9a44-4d5a-82fa-823215b29717"
      },
      "source": [
        "autoencoder.compile(optimizer='adam', loss='mse')"
      ],
      "execution_count": 15,
      "outputs": [
        {
          "output_type": "stream",
          "text": [
            "W0818 14:07:01.325718 140069399033728 deprecation_wrapper.py:119] From /usr/local/lib/python3.6/dist-packages/keras/optimizers.py:790: The name tf.train.Optimizer is deprecated. Please use tf.compat.v1.train.Optimizer instead.\n",
            "\n"
          ],
          "name": "stderr"
        }
      ]
    },
    {
      "cell_type": "code",
      "metadata": {
        "id": "gaKWRu69DUVx",
        "colab_type": "code",
        "colab": {}
      },
      "source": [
        "estop = keras.callbacks.EarlyStopping(monitor='val_loss', min_delta=0, patience=10, verbose=1, mode='auto')"
      ],
      "execution_count": 0,
      "outputs": []
    },
    {
      "cell_type": "code",
      "metadata": {
        "id": "_3vd6fdzDegx",
        "colab_type": "code",
        "colab": {
          "base_uri": "https://localhost:8080/",
          "height": 1000
        },
        "outputId": "24612d44-2eef-4146-d141-ac5b51a301f6"
      },
      "source": [
        "train_history = autoencoder.fit(train_x, train_x, epochs=50, batch_size=2048, validation_data=(val_x, val_x), callbacks=[estop])"
      ],
      "execution_count": 18,
      "outputs": [
        {
          "output_type": "stream",
          "text": [
            "Train on 60000 samples, validate on 10000 samples\n",
            "Epoch 1/50\n",
            "60000/60000 [==============================] - 36s 603us/step - loss: 0.0356 - val_loss: 0.0331\n",
            "Epoch 2/50\n",
            "60000/60000 [==============================] - 36s 605us/step - loss: 0.0317 - val_loss: 0.0302\n",
            "Epoch 3/50\n",
            "60000/60000 [==============================] - 36s 603us/step - loss: 0.0290 - val_loss: 0.0276\n",
            "Epoch 4/50\n",
            "60000/60000 [==============================] - 36s 602us/step - loss: 0.0268 - val_loss: 0.0256\n",
            "Epoch 5/50\n",
            "60000/60000 [==============================] - 36s 603us/step - loss: 0.0248 - val_loss: 0.0242\n",
            "Epoch 6/50\n",
            "60000/60000 [==============================] - 36s 604us/step - loss: 0.0238 - val_loss: 0.0233\n",
            "Epoch 7/50\n",
            "60000/60000 [==============================] - 36s 603us/step - loss: 0.0228 - val_loss: 0.0239\n",
            "Epoch 8/50\n",
            "60000/60000 [==============================] - 36s 603us/step - loss: 0.0221 - val_loss: 0.0215\n",
            "Epoch 9/50\n",
            "60000/60000 [==============================] - 36s 603us/step - loss: 0.0215 - val_loss: 0.0213\n",
            "Epoch 10/50\n",
            "60000/60000 [==============================] - 36s 605us/step - loss: 0.0206 - val_loss: 0.0204\n",
            "Epoch 11/50\n",
            "60000/60000 [==============================] - 36s 603us/step - loss: 0.0202 - val_loss: 0.0202\n",
            "Epoch 12/50\n",
            "60000/60000 [==============================] - 36s 604us/step - loss: 0.0201 - val_loss: 0.0202\n",
            "Epoch 13/50\n",
            "60000/60000 [==============================] - 36s 605us/step - loss: 0.0194 - val_loss: 0.0190\n",
            "Epoch 14/50\n",
            "60000/60000 [==============================] - 36s 604us/step - loss: 0.0187 - val_loss: 0.0186\n",
            "Epoch 15/50\n",
            "60000/60000 [==============================] - 36s 603us/step - loss: 0.0187 - val_loss: 0.0188\n",
            "Epoch 16/50\n",
            "60000/60000 [==============================] - 36s 605us/step - loss: 0.0180 - val_loss: 0.0178\n",
            "Epoch 17/50\n",
            "60000/60000 [==============================] - 36s 604us/step - loss: 0.0176 - val_loss: 0.0177\n",
            "Epoch 18/50\n",
            "60000/60000 [==============================] - 36s 603us/step - loss: 0.0174 - val_loss: 0.0173\n",
            "Epoch 19/50\n",
            "60000/60000 [==============================] - 36s 603us/step - loss: 0.0171 - val_loss: 0.0170\n",
            "Epoch 20/50\n",
            "60000/60000 [==============================] - 36s 602us/step - loss: 0.0167 - val_loss: 0.0167\n",
            "Epoch 21/50\n",
            "60000/60000 [==============================] - 36s 602us/step - loss: 0.0170 - val_loss: 0.0165\n",
            "Epoch 22/50\n",
            "60000/60000 [==============================] - 36s 603us/step - loss: 0.0162 - val_loss: 0.0162\n",
            "Epoch 23/50\n",
            "60000/60000 [==============================] - 36s 602us/step - loss: 0.0162 - val_loss: 0.0163\n",
            "Epoch 24/50\n",
            "60000/60000 [==============================] - 36s 601us/step - loss: 0.0159 - val_loss: 0.0159\n",
            "Epoch 25/50\n",
            "60000/60000 [==============================] - 36s 602us/step - loss: 0.0158 - val_loss: 0.0161\n",
            "Epoch 26/50\n",
            "60000/60000 [==============================] - 36s 602us/step - loss: 0.0155 - val_loss: 0.0154\n",
            "Epoch 27/50\n",
            "60000/60000 [==============================] - 36s 602us/step - loss: 0.0153 - val_loss: 0.0157\n",
            "Epoch 28/50\n",
            "60000/60000 [==============================] - 36s 601us/step - loss: 0.0152 - val_loss: 0.0151\n",
            "Epoch 29/50\n",
            "60000/60000 [==============================] - 36s 602us/step - loss: 0.0150 - val_loss: 0.0150\n",
            "Epoch 30/50\n",
            "60000/60000 [==============================] - 36s 602us/step - loss: 0.0147 - val_loss: 0.0152\n",
            "Epoch 31/50\n",
            "60000/60000 [==============================] - 36s 603us/step - loss: 0.0148 - val_loss: 0.0147\n",
            "Epoch 32/50\n",
            "60000/60000 [==============================] - 36s 602us/step - loss: 0.0144 - val_loss: 0.0147\n",
            "Epoch 33/50\n",
            "60000/60000 [==============================] - 36s 603us/step - loss: 0.0143 - val_loss: 0.0148\n",
            "Epoch 34/50\n",
            "60000/60000 [==============================] - 36s 602us/step - loss: 0.0143 - val_loss: 0.0143\n",
            "Epoch 35/50\n",
            "60000/60000 [==============================] - 36s 604us/step - loss: 0.0141 - val_loss: 0.0143\n",
            "Epoch 36/50\n",
            "60000/60000 [==============================] - 36s 604us/step - loss: 0.0140 - val_loss: 0.0142\n",
            "Epoch 37/50\n",
            "60000/60000 [==============================] - 36s 602us/step - loss: 0.0140 - val_loss: 0.0144\n",
            "Epoch 38/50\n",
            "60000/60000 [==============================] - 36s 602us/step - loss: 0.0137 - val_loss: 0.0140\n",
            "Epoch 39/50\n",
            "60000/60000 [==============================] - 36s 602us/step - loss: 0.0138 - val_loss: 0.0139\n",
            "Epoch 40/50\n",
            "60000/60000 [==============================] - 36s 603us/step - loss: 0.0136 - val_loss: 0.0139\n",
            "Epoch 41/50\n",
            "60000/60000 [==============================] - 36s 603us/step - loss: 0.0138 - val_loss: 0.0138\n",
            "Epoch 42/50\n",
            "60000/60000 [==============================] - 36s 603us/step - loss: 0.0134 - val_loss: 0.0137\n",
            "Epoch 43/50\n",
            "60000/60000 [==============================] - 36s 603us/step - loss: 0.0135 - val_loss: 0.0138\n",
            "Epoch 44/50\n",
            "60000/60000 [==============================] - 36s 604us/step - loss: 0.0133 - val_loss: 0.0138\n",
            "Epoch 45/50\n",
            "60000/60000 [==============================] - 36s 601us/step - loss: 0.0133 - val_loss: 0.0137\n",
            "Epoch 46/50\n",
            "60000/60000 [==============================] - 36s 604us/step - loss: 0.0132 - val_loss: 0.0143\n",
            "Epoch 47/50\n",
            "60000/60000 [==============================] - 36s 602us/step - loss: 0.0133 - val_loss: 0.0135\n",
            "Epoch 48/50\n",
            "60000/60000 [==============================] - 36s 602us/step - loss: 0.0131 - val_loss: 0.0141\n",
            "Epoch 49/50\n",
            "60000/60000 [==============================] - 36s 602us/step - loss: 0.0132 - val_loss: 0.0133\n",
            "Epoch 50/50\n",
            "60000/60000 [==============================] - 36s 601us/step - loss: 0.0131 - val_loss: 0.0136\n"
          ],
          "name": "stdout"
        }
      ]
    },
    {
      "cell_type": "markdown",
      "metadata": {
        "id": "UpbdcWq8fJEW",
        "colab_type": "text"
      },
      "source": [
        "### Prediction"
      ]
    },
    {
      "cell_type": "code",
      "metadata": {
        "id": "0Rvj2pTpEGxh",
        "colab_type": "code",
        "colab": {}
      },
      "source": [
        "pred = autoencoder.predict(val_x)"
      ],
      "execution_count": 0,
      "outputs": []
    },
    {
      "cell_type": "code",
      "metadata": {
        "id": "QmAr34bEfNP9",
        "colab_type": "code",
        "colab": {
          "base_uri": "https://localhost:8080/",
          "height": 286
        },
        "outputId": "84b38691-4be6-4973-ae18-ee9135c86318"
      },
      "source": [
        "plt.imshow(pred[0].reshape(28, 28), cmap='gray')"
      ],
      "execution_count": 20,
      "outputs": [
        {
          "output_type": "execute_result",
          "data": {
            "text/plain": [
              "<matplotlib.image.AxesImage at 0x7f6420b5b5c0>"
            ]
          },
          "metadata": {
            "tags": []
          },
          "execution_count": 20
        },
        {
          "output_type": "display_data",
          "data": {
            "image/png": "[encoded data removed]",
            "text/plain": [
              "<Figure size 432x288 with 1 Axes>"
            ]
          },
          "metadata": {
            "tags": []
          }
        }
      ]
    },
    {
      "cell_type": "markdown",
      "metadata": {
        "id": "B1ICO7zNfcZd",
        "colab_type": "text"
      },
      "source": [
        "This  is how our predicted image looks like"
      ]
    },
    {
      "cell_type": "markdown",
      "metadata": {
        "id": "_I5FWDRuflD-",
        "colab_type": "text"
      },
      "source": [
        "### Original image for comparison"
      ]
    },
    {
      "cell_type": "code",
      "metadata": {
        "id": "92Q_3baIfR48",
        "colab_type": "code",
        "colab": {
          "base_uri": "https://localhost:8080/",
          "height": 286
        },
        "outputId": "0a2a6190-1574-4a3c-8f48-1cfa1dbc2ac2"
      },
      "source": [
        "plt.imshow(val_x[0].reshape(28, 28), cmap='gray')"
      ],
      "execution_count": 21,
      "outputs": [
        {
          "output_type": "execute_result",
          "data": {
            "text/plain": [
              "<matplotlib.image.AxesImage at 0x7f641e2cfc50>"
            ]
          },
          "metadata": {
            "tags": []
          },
          "execution_count": 21
        },
        {
          "output_type": "display_data",
          "data": {
            "image/png": "[encoded data removed]",
            "text/plain": [
              "<Figure size 432x288 with 1 Axes>"
            ]
          },
          "metadata": {
            "tags": []
          }
        }
      ]
    },
    {
      "cell_type": "markdown",
      "metadata": {
        "id": "Khk1Pgayf798",
        "colab_type": "text"
      },
      "source": [
        "This is how a image is reconstructed using Autoencoders"
      ]
    }
  ]
}