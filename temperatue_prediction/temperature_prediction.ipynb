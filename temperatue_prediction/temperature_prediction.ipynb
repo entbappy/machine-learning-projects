{
 "cells": [
  {
   "cell_type": "markdown",
   "metadata": {},
   "source": [
    "### Load Data set"
   ]
  },
  {
   "cell_type": "code",
   "execution_count": 3,
   "metadata": {},
   "outputs": [],
   "source": [
    "import os"
   ]
  },
  {
   "cell_type": "code",
   "execution_count": 4,
   "metadata": {},
   "outputs": [
    {
     "name": "stdout",
     "output_type": "stream",
     "text": [
      "['\"Date Time\"', '\"p (mbar)\"', '\"T (degC)\"', '\"Tpot (K)\"', '\"Tdew (degC)\"', '\"rh (%)\"', '\"VPmax (mbar)\"', '\"VPact (mbar)\"', '\"VPdef (mbar)\"', '\"sh (g/kg)\"', '\"H2OC (mmol/mol)\"', '\"rho (g/m**3)\"', '\"wv (m/s)\"', '\"max. wv (m/s)\"', '\"wd (deg)\"']\n",
      "length: \n",
      " 420551\n"
     ]
    }
   ],
   "source": [
    "f = open('jena_climate_2009_2016.csv')\n",
    "data = f.read()\n",
    "f.close()\n",
    "lines = data.split('\\n')\n",
    "header = lines[0].split(',')\n",
    "lines = lines[1:]\n",
    "print(header)\n",
    "print(\"length: \\n\", len(lines))"
   ]
  },
  {
   "cell_type": "markdown",
   "metadata": {},
   "source": [
    "###  Convert all 420,551 lines of data into a Numpy array."
   ]
  },
  {
   "cell_type": "code",
   "execution_count": 5,
   "metadata": {},
   "outputs": [],
   "source": [
    "import numpy as np\n",
    "float_data = np.zeros((len(lines), len(header) - 1))\n",
    "for i, line in enumerate(lines):\n",
    "    values = [float(x) for x in line.split(',')[1:]]\n",
    "    float_data[i, :] = values"
   ]
  },
  {
   "cell_type": "markdown",
   "metadata": {},
   "source": [
    "### Plot of temperature (in degrees Celsius) over time"
   ]
  },
  {
   "cell_type": "code",
   "execution_count": 6,
   "metadata": {},
   "outputs": [
    {
     "data": {
      "text/plain": [
       "<Figure size 640x480 with 1 Axes>"
      ]
     },
     "metadata": {},
     "output_type": "display_data"
    }
   ],
   "source": [
    "from matplotlib import pyplot as plt\n",
    "\n",
    "temp = float_data[:, 1]  # temperature (in degrees Celsius)\n",
    "plt.plot(range(len(temp)), temp)\n",
    "plt.show()"
   ]
  },
  {
   "cell_type": "markdown",
   "metadata": {},
   "source": [
    "### More narrow plot of the first ten days of temperature data"
   ]
  },
  {
   "cell_type": "code",
   "execution_count": 7,
   "metadata": {},
   "outputs": [
    {
     "data": {
      "image/png": "[encoded data removed]",
      "text/plain": [
       "<Figure size 432x288 with 1 Axes>"
      ]
     },
     "metadata": {
      "needs_background": "light"
     },
     "output_type": "display_data"
    }
   ],
   "source": [
    "plt.plot(range(1440), temp[:1440])\n",
    "plt.show()"
   ]
  },
  {
   "cell_type": "markdown",
   "metadata": {},
   "source": [
    "### Data Pre-processing"
   ]
  },
  {
   "cell_type": "code",
   "execution_count": 8,
   "metadata": {},
   "outputs": [],
   "source": [
    "mean = float_data[:200000].mean(axis=0)\n",
    "float_data -= mean\n",
    "std = float_data[:200000].std(axis=0)\n",
    "float_data /= std"
   ]
  },
  {
   "cell_type": "code",
   "execution_count": 9,
   "metadata": {},
   "outputs": [],
   "source": [
    "def generator(data, lookback, delay, min_index, max_index,\n",
    "              shuffle=False, batch_size=128, step=6):\n",
    "    if max_index is None:\n",
    "        max_index = len(data) - delay - 1\n",
    "    i = min_index + lookback\n",
    "    while 1:\n",
    "        if shuffle:\n",
    "            rows = np.random.randint(\n",
    "                min_index + lookback, max_index, size=batch_size)\n",
    "        else:\n",
    "            if i + batch_size >= max_index:\n",
    "                i = min_index + lookback\n",
    "            rows = np.arange(i, min(i + batch_size, max_index))\n",
    "            i += len(rows)\n",
    "\n",
    "        samples = np.zeros((len(rows),\n",
    "                           lookback // step,\n",
    "                           data.shape[-1]))\n",
    "        targets = np.zeros((len(rows),))\n",
    "        for j, row in enumerate(rows):\n",
    "            indices = range(rows[j] - lookback, rows[j], step)\n",
    "            samples[j] = data[indices]\n",
    "            targets[j] = data[rows[j] + delay][1]\n",
    "        yield samples, targets"
   ]
  },
  {
   "cell_type": "code",
   "execution_count": 10,
   "metadata": {},
   "outputs": [],
   "source": [
    "lookback = 1440\n",
    "step = 6\n",
    "delay = 144\n",
    "batch_size = 128\n",
    "\n",
    "train_gen = generator(float_data,\n",
    "                      lookback=lookback,\n",
    "                      delay=delay,\n",
    "                      min_index=0,\n",
    "                      max_index=200000,\n",
    "                      shuffle=True,\n",
    "                      step=step, \n",
    "                      batch_size=batch_size)\n",
    "val_gen = generator(float_data,\n",
    "                    lookback=lookback,\n",
    "                    delay=delay,\n",
    "                    min_index=200001,\n",
    "                    max_index=300000,\n",
    "                    step=step,\n",
    "                    batch_size=batch_size)\n",
    "test_gen = generator(float_data,\n",
    "                     lookback=lookback,\n",
    "                     delay=delay,\n",
    "                     min_index=300001,\n",
    "                     max_index=None,\n",
    "                     step=step,\n",
    "                     batch_size=batch_size)\n",
    "\n",
    "# This is how many steps to draw from `val_gen`\n",
    "# in order to see the whole validation set:\n",
    "val_steps = (300000 - 200001 - lookback) // batch_size\n",
    "\n",
    "# This is how many steps to draw from `test_gen`\n",
    "# in order to see the whole test set:\n",
    "test_steps = (len(float_data) - 300001 - lookback) // batch_size"
   ]
  },
  {
   "cell_type": "markdown",
   "metadata": {},
   "source": [
    "### Non-machine learning technique"
   ]
  },
  {
   "cell_type": "code",
   "execution_count": 11,
   "metadata": {},
   "outputs": [
    {
     "name": "stdout",
     "output_type": "stream",
     "text": [
      "0.2897359729905486\n"
     ]
    }
   ],
   "source": [
    "def evaluate_naive_method():\n",
    "    batch_maes = []\n",
    "    for step in range(val_steps):\n",
    "        samples, targets = next(val_gen)\n",
    "        preds = samples[:, -1, 1]\n",
    "        mae = np.mean(np.abs(preds - targets))\n",
    "        batch_maes.append(mae)\n",
    "    print(np.mean(batch_maes))\n",
    "    \n",
    "evaluate_naive_method()"
   ]
  },
  {
   "cell_type": "markdown",
   "metadata": {},
   "source": [
    "### Basic Machine Learning approach"
   ]
  },
  {
   "cell_type": "code",
   "execution_count": 16,
   "metadata": {
    "scrolled": true
   },
   "outputs": [
    {
     "name": "stdout",
     "output_type": "stream",
     "text": [
      "Epoch 1/20\n",
      "500/500 [==============================] - 17s 35ms/step - loss: 1.7535 - val_loss: 0.8196\n",
      "Epoch 2/20\n",
      "500/500 [==============================] - 17s 34ms/step - loss: 0.6516 - val_loss: 0.5000\n",
      "Epoch 3/20\n",
      "500/500 [==============================] - 17s 35ms/step - loss: 0.3411 - val_loss: 0.3288\n",
      "Epoch 4/20\n",
      "500/500 [==============================] - 17s 35ms/step - loss: 0.2839 - val_loss: 0.3026\n",
      "Epoch 5/20\n",
      "500/500 [==============================] - 17s 34ms/step - loss: 0.2638 - val_loss: 0.3034\n",
      "Epoch 6/20\n",
      "500/500 [==============================] - 17s 35ms/step - loss: 0.2539 - val_loss: 0.3079\n",
      "Epoch 7/20\n",
      "500/500 [==============================] - 17s 35ms/step - loss: 0.2446 - val_loss: 0.3120\n",
      "Epoch 8/20\n",
      "500/500 [==============================] - 17s 35ms/step - loss: 0.2375 - val_loss: 0.3199\n",
      "Epoch 9/20\n",
      "500/500 [==============================] - 17s 34ms/step - loss: 0.2301 - val_loss: 0.3242\n",
      "Epoch 10/20\n",
      "500/500 [==============================] - 17s 35ms/step - loss: 0.2258 - val_loss: 0.3662\n",
      "Epoch 11/20\n",
      "500/500 [==============================] - 17s 35ms/step - loss: 0.2212 - val_loss: 0.3456\n",
      "Epoch 12/20\n",
      "500/500 [==============================] - 17s 35ms/step - loss: 0.2194 - val_loss: 0.3194\n",
      "Epoch 13/20\n",
      "500/500 [==============================] - 17s 35ms/step - loss: 0.2153 - val_loss: 0.3303\n",
      "Epoch 14/20\n",
      "500/500 [==============================] - 17s 35ms/step - loss: 0.2140 - val_loss: 0.3517\n",
      "Epoch 15/20\n",
      "500/500 [==============================] - 17s 35ms/step - loss: 0.2094 - val_loss: 0.3538\n",
      "Epoch 16/20\n",
      "500/500 [==============================] - 17s 35ms/step - loss: 0.2075 - val_loss: 0.3832\n",
      "Epoch 17/20\n",
      "500/500 [==============================] - 17s 35ms/step - loss: 0.2062 - val_loss: 0.3335\n",
      "Epoch 18/20\n",
      "500/500 [==============================] - 17s 35ms/step - loss: 0.2048 - val_loss: 0.3315\n",
      "Epoch 19/20\n",
      "500/500 [==============================] - 17s 35ms/step - loss: 0.2025 - val_loss: 0.3499\n",
      "Epoch 20/20\n",
      "500/500 [==============================] - 18s 35ms/step - loss: 0.2014 - val_loss: 0.3499\n"
     ]
    }
   ],
   "source": [
    "from keras.models import Sequential\n",
    "from keras import layers\n",
    "from keras.optimizers import RMSprop\n",
    "\n",
    "model = Sequential()\n",
    "model.add(layers.Flatten(input_shape=(lookback // step, float_data.shape[-1])))\n",
    "model.add(layers.Dense(32, activation='relu'))\n",
    "model.add(layers.Dense(1))\n",
    "\n",
    "model.compile(optimizer=RMSprop(), loss='mae')\n",
    "history = model.fit_generator(train_gen,\n",
    "                              steps_per_epoch=500,\n",
    "                              epochs=20,\n",
    "                              validation_data=val_gen,\n",
    "                              validation_steps=val_steps)"
   ]
  },
  {
   "cell_type": "markdown",
   "metadata": {},
   "source": [
    "### Loss curves for validation and training"
   ]
  },
  {
   "cell_type": "code",
   "execution_count": 13,
   "metadata": {},
   "outputs": [
    {
     "data": {
      "image/png": "[encoded data removed]",
      "text/plain": [
       "<Figure size 432x288 with 1 Axes>"
      ]
     },
     "metadata": {
      "needs_background": "light"
     },
     "output_type": "display_data"
    }
   ],
   "source": [
    "import matplotlib.pyplot as plt\n",
    "\n",
    "loss = history.history['loss']\n",
    "val_loss = history.history['val_loss']\n",
    "\n",
    "epochs = range(len(loss))\n",
    "\n",
    "plt.figure()\n",
    "\n",
    "plt.plot(epochs, loss, 'bo', label='Training loss')\n",
    "plt.plot(epochs, val_loss, 'b', label='Validation loss')\n",
    "plt.title('Training and validation loss')\n",
    "plt.legend()\n",
    "\n",
    "plt.show()"
   ]
  },
  {
   "cell_type": "markdown",
   "metadata": {},
   "source": [
    "### First recurrent baseline"
   ]
  },
  {
   "cell_type": "code",
   "execution_count": 14,
   "metadata": {},
   "outputs": [
    {
     "name": "stdout",
     "output_type": "stream",
     "text": [
      "Epoch 1/20\n",
      "500/500 [==============================] - 126s 252ms/step - loss: 0.3027 - val_loss: 0.2773\n",
      "Epoch 2/20\n",
      "500/500 [==============================] - 122s 243ms/step - loss: 0.2839 - val_loss: 0.2699\n",
      "Epoch 3/20\n",
      "500/500 [==============================] - 126s 252ms/step - loss: 0.2775 - val_loss: 0.2664\n",
      "Epoch 4/20\n",
      "500/500 [==============================] - 119s 239ms/step - loss: 0.2708 - val_loss: 0.2651\n",
      "Epoch 5/20\n",
      "500/500 [==============================] - 123s 246ms/step - loss: 0.2666 - val_loss: 0.2655\n",
      "Epoch 6/20\n",
      "500/500 [==============================] - 121s 241ms/step - loss: 0.2609 - val_loss: 0.2707\n",
      "Epoch 7/20\n",
      "500/500 [==============================] - 119s 237ms/step - loss: 0.2565 - val_loss: 0.2692\n",
      "Epoch 8/20\n",
      "500/500 [==============================] - 119s 238ms/step - loss: 0.2504 - val_loss: 0.2713\n",
      "Epoch 9/20\n",
      "500/500 [==============================] - 118s 237ms/step - loss: 0.2475 - val_loss: 0.2836\n",
      "Epoch 10/20\n",
      "500/500 [==============================] - 118s 236ms/step - loss: 0.2430 - val_loss: 0.2868\n",
      "Epoch 11/20\n",
      "500/500 [==============================] - 122s 243ms/step - loss: 0.2385 - val_loss: 0.2884\n",
      "Epoch 12/20\n",
      "500/500 [==============================] - 118s 237ms/step - loss: 0.2360 - val_loss: 0.2834\n",
      "Epoch 13/20\n",
      "500/500 [==============================] - 118s 235ms/step - loss: 0.2326 - val_loss: 0.2962\n",
      "Epoch 14/20\n",
      "500/500 [==============================] - 119s 239ms/step - loss: 0.2269 - val_loss: 0.2984\n",
      "Epoch 15/20\n",
      "500/500 [==============================] - 128s 256ms/step - loss: 0.2270 - val_loss: 0.2994\n",
      "Epoch 16/20\n",
      "500/500 [==============================] - 118s 237ms/step - loss: 0.2231 - val_loss: 0.3093\n",
      "Epoch 17/20\n",
      "500/500 [==============================] - 118s 236ms/step - loss: 0.2188 - val_loss: 0.3044\n",
      "Epoch 18/20\n",
      "500/500 [==============================] - 119s 238ms/step - loss: 0.2170 - val_loss: 0.3045\n",
      "Epoch 19/20\n",
      "500/500 [==============================] - 118s 237ms/step - loss: 0.2147 - val_loss: 0.3134\n",
      "Epoch 20/20\n",
      "500/500 [==============================] - 118s 237ms/step - loss: 0.2117 - val_loss: 0.3065\n"
     ]
    }
   ],
   "source": [
    "\n",
    "from keras.models import Sequential\n",
    "from keras import layers\n",
    "from keras.optimizers import RMSprop\n",
    "\n",
    "model = Sequential()\n",
    "model.add(layers.GRU(32, input_shape=(None, float_data.shape[-1])))\n",
    "model.add(layers.Dense(1))\n",
    "\n",
    "model.compile(optimizer=RMSprop(), loss='mae')\n",
    "history = model.fit_generator(train_gen,\n",
    "                              steps_per_epoch=500,\n",
    "                              epochs=20,\n",
    "                              validation_data=val_gen,\n",
    "                              validation_steps=val_steps)"
   ]
  },
  {
   "cell_type": "markdown",
   "metadata": {},
   "source": [
    "### Result"
   ]
  },
  {
   "cell_type": "code",
   "execution_count": 15,
   "metadata": {},
   "outputs": [
    {
     "data": {
      "image/png": "[encoded data removed]",
      "text/plain": [
       "<Figure size 432x288 with 1 Axes>"
      ]
     },
     "metadata": {
      "needs_background": "light"
     },
     "output_type": "display_data"
    }
   ],
   "source": [
    "loss = history.history['loss']\n",
    "val_loss = history.history['val_loss']\n",
    "\n",
    "epochs = range(len(loss))\n",
    "\n",
    "plt.figure()\n",
    "\n",
    "plt.plot(epochs, loss, 'bo', label='Training loss')\n",
    "plt.plot(epochs, val_loss, 'b', label='Validation loss')\n",
    "plt.title('Training and validation loss')\n",
    "plt.legend()\n",
    "\n",
    "plt.show()"
   ]
  },
  {
   "cell_type": "markdown",
   "metadata": {},
   "source": [
    "### Using dropout to prevent overfitting"
   ]
  },
  {
   "cell_type": "code",
   "execution_count": null,
   "metadata": {},
   "outputs": [
    {
     "name": "stdout",
     "output_type": "stream",
     "text": [
      "WARNING:tensorflow:From C:\\Users\\sadma\\Anaconda3\\lib\\site-packages\\keras\\backend\\tensorflow_backend.py:3445: calling dropout (from tensorflow.python.ops.nn_ops) with keep_prob is deprecated and will be removed in a future version.\n",
      "Instructions for updating:\n",
      "Please use `rate` instead of `keep_prob`. Rate should be set to `rate = 1 - keep_prob`.\n",
      "Epoch 1/40\n",
      "500/500 [==============================] - 140s 279ms/step - loss: 0.3315 - val_loss: 0.2780\n",
      "Epoch 2/40\n",
      "500/500 [==============================] - 140s 279ms/step - loss: 0.3129 - val_loss: 0.2713\n",
      "Epoch 3/40\n",
      "500/500 [==============================] - 139s 278ms/step - loss: 0.3070 - val_loss: 0.2694\n",
      "Epoch 4/40\n",
      "500/500 [==============================] - 139s 279ms/step - loss: 0.3039 - val_loss: 0.2681\n",
      "Epoch 5/40\n",
      "500/500 [==============================] - 140s 280ms/step - loss: 0.2976 - val_loss: 0.2702\n",
      "Epoch 6/40\n",
      "500/500 [==============================] - 138s 276ms/step - loss: 0.2968 - val_loss: 0.2687\n",
      "Epoch 7/40\n",
      "500/500 [==============================] - 139s 279ms/step - loss: 0.2952 - val_loss: 0.2666\n",
      "Epoch 8/40\n",
      "500/500 [==============================] - 139s 278ms/step - loss: 0.2935 - val_loss: 0.2657\n",
      "Epoch 9/40\n",
      "500/500 [==============================] - 139s 278ms/step - loss: 0.2925 - val_loss: 0.2653\n",
      "Epoch 10/40\n",
      "500/500 [==============================] - 138s 277ms/step - loss: 0.2880 - val_loss: 0.2674\n",
      "Epoch 11/40\n",
      "500/500 [==============================] - 139s 278ms/step - loss: 0.2892 - val_loss: 0.2671\n",
      "Epoch 12/40\n",
      "500/500 [==============================] - 151s 301ms/step - loss: 0.2864 - val_loss: 0.2610\n",
      "Epoch 13/40\n",
      "500/500 [==============================] - 220s 440ms/step - loss: 0.2841 - val_loss: 0.2587\n",
      "Epoch 14/40\n",
      "500/500 [==============================] - 228s 457ms/step - loss: 0.2837 - val_loss: 0.2617\n",
      "Epoch 15/40\n",
      "500/500 [==============================] - 237s 475ms/step - loss: 0.2821 - val_loss: 0.2647\n",
      "Epoch 16/40\n",
      "500/500 [==============================] - 233s 466ms/step - loss: 0.2821 - val_loss: 0.2653\n",
      "Epoch 17/40\n",
      "500/500 [==============================] - 229s 458ms/step - loss: 0.2804 - val_loss: 0.2647\n",
      "Epoch 18/40\n",
      "500/500 [==============================] - 232s 463ms/step - loss: 0.2790 - val_loss: 0.2622\n",
      "Epoch 19/40\n",
      "500/500 [==============================] - 231s 463ms/step - loss: 0.2790 - val_loss: 0.2620\n",
      "Epoch 20/40\n",
      "500/500 [==============================] - 229s 459ms/step - loss: 0.2777 - val_loss: 0.2597\n",
      "Epoch 21/40\n",
      "500/500 [==============================] - 235s 470ms/step - loss: 0.2795 - val_loss: 0.2595\n",
      "Epoch 22/40\n",
      "500/500 [==============================] - 232s 464ms/step - loss: 0.2788 - val_loss: 0.2636\n",
      "Epoch 23/40\n",
      "500/500 [==============================] - 217s 433ms/step - loss: 0.2748 - val_loss: 0.2618\n",
      "Epoch 24/40\n",
      "500/500 [==============================] - 143s 285ms/step - loss: 0.2749 - val_loss: 0.2634\n",
      "Epoch 25/40\n",
      "500/500 [==============================] - 142s 283ms/step - loss: 0.2754 - val_loss: 0.2612\n",
      "Epoch 26/40\n",
      "500/500 [==============================] - 142s 284ms/step - loss: 0.2742 - val_loss: 0.2624\n",
      "Epoch 27/40\n",
      "500/500 [==============================] - 167s 333ms/step - loss: 0.2734 - val_loss: 0.2682\n",
      "Epoch 28/40\n",
      "318/500 [==================>...........] - ETA: 55s - loss: 0.2731"
     ]
    }
   ],
   "source": [
    "from keras.models import Sequential\n",
    "from keras import layers\n",
    "from keras.optimizers import RMSprop\n",
    "\n",
    "model = Sequential()\n",
    "model.add(layers.GRU(32,\n",
    "                     dropout=0.2,\n",
    "                     recurrent_dropout=0.2,\n",
    "                     input_shape=(None, float_data.shape[-1])))\n",
    "model.add(layers.Dense(1))\n",
    "\n",
    "model.compile(optimizer=RMSprop(), loss='mae')\n",
    "history = model.fit_generator(train_gen,\n",
    "                              steps_per_epoch=500,\n",
    "                              epochs=40,\n",
    "                              validation_data=val_gen,\n",
    "                              validation_steps=val_steps)"
   ]
  },
  {
   "cell_type": "code",
   "execution_count": null,
   "metadata": {},
   "outputs": [],
   "source": []
  }
 ],
 "metadata": {
  "kernelspec": {
   "display_name": "Python 3",
   "language": "python",
   "name": "python3"
  },
  "language_info": {
   "codemirror_mode": {
    "name": "ipython",
    "version": 3
   },
   "file_extension": ".py",
   "mimetype": "text/x-python",
   "name": "python",
   "nbconvert_exporter": "python",
   "pygments_lexer": "ipython3",
   "version": "3.6.8"
  },
  "toc": {
   "base_numbering": 1,
   "nav_menu": {},
   "number_sections": true,
   "sideBar": true,
   "skip_h1_title": false,
   "title_cell": "Table of Contents",
   "title_sidebar": "Contents",
   "toc_cell": false,
   "toc_position": {},
   "toc_section_display": true,
   "toc_window_display": false
  }
 },
 "nbformat": 4,
 "nbformat_minor": 2
}
